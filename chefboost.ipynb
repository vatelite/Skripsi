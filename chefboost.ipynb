{
 "cells": [
  {
   "cell_type": "code",
   "execution_count": null,
   "metadata": {},
   "outputs": [],
   "source": [
    "from chefboost import Chefboost as chef\n",
    "import pandas as pd\n"
   ]
  },
  {
   "cell_type": "code",
   "execution_count": 2,
   "metadata": {
    "pycharm": {
     "name": "#%%\n"
    }
   },
   "outputs": [],
   "source": [
    "dataset = pd.read_csv(\"data.csv\")"
   ]
  },
  {
   "cell_type": "code",
   "execution_count": 3,
   "metadata": {
    "pycharm": {
     "name": "#%%\n"
    }
   },
   "outputs": [
    {
     "data": {
      "text/html": [
       "<div>\n",
       "<style scoped>\n",
       "    .dataframe tbody tr th:only-of-type {\n",
       "        vertical-align: middle;\n",
       "    }\n",
       "\n",
       "    .dataframe tbody tr th {\n",
       "        vertical-align: top;\n",
       "    }\n",
       "\n",
       "    .dataframe thead th {\n",
       "        text-align: right;\n",
       "    }\n",
       "</style>\n",
       "<table border=\"1\" class=\"dataframe\">\n",
       "  <thead>\n",
       "    <tr style=\"text-align: right;\">\n",
       "      <th></th>\n",
       "      <th>Qlv_disc</th>\n",
       "      <th>Qmc_disc</th>\n",
       "      <th>Qhv_disc</th>\n",
       "      <th>Qmv_disc</th>\n",
       "      <th>Decision</th>\n",
       "    </tr>\n",
       "  </thead>\n",
       "  <tbody>\n",
       "    <tr>\n",
       "      <th>0</th>\n",
       "      <td>3</td>\n",
       "      <td>3</td>\n",
       "      <td>3</td>\n",
       "      <td>2</td>\n",
       "      <td>A</td>\n",
       "    </tr>\n",
       "    <tr>\n",
       "      <th>1</th>\n",
       "      <td>4</td>\n",
       "      <td>3</td>\n",
       "      <td>4</td>\n",
       "      <td>3</td>\n",
       "      <td>D</td>\n",
       "    </tr>\n",
       "    <tr>\n",
       "      <th>2</th>\n",
       "      <td>4</td>\n",
       "      <td>3</td>\n",
       "      <td>4</td>\n",
       "      <td>3</td>\n",
       "      <td>D</td>\n",
       "    </tr>\n",
       "    <tr>\n",
       "      <th>3</th>\n",
       "      <td>0</td>\n",
       "      <td>0</td>\n",
       "      <td>0</td>\n",
       "      <td>0</td>\n",
       "      <td>A</td>\n",
       "    </tr>\n",
       "    <tr>\n",
       "      <th>4</th>\n",
       "      <td>0</td>\n",
       "      <td>0</td>\n",
       "      <td>0</td>\n",
       "      <td>0</td>\n",
       "      <td>A</td>\n",
       "    </tr>\n",
       "  </tbody>\n",
       "</table>\n",
       "</div>"
      ],
      "text/plain": [
       "   Qlv_disc  Qmc_disc  Qhv_disc  Qmv_disc Decision\n",
       "0         3         3         3         2        A\n",
       "1         4         3         4         3        D\n",
       "2         4         3         4         3        D\n",
       "3         0         0         0         0        A\n",
       "4         0         0         0         0        A"
      ]
     },
     "execution_count": 3,
     "metadata": {},
     "output_type": "execute_result"
    }
   ],
   "source": [
    "dataset.head()"
   ]
  },
  {
   "cell_type": "code",
   "execution_count": 5,
   "metadata": {
    "pycharm": {
     "name": "#%%\n"
    }
   },
   "outputs": [
    {
     "data": {
      "text/plain": [
       "(126, 5)"
      ]
     },
     "execution_count": 5,
     "metadata": {},
     "output_type": "execute_result"
    }
   ],
   "source": [
    "dataset.shape"
   ]
  },
  {
   "cell_type": "code",
   "execution_count": 6,
   "metadata": {
    "pycharm": {
     "name": "#%%\n"
    }
   },
   "outputs": [
    {
     "data": {
      "text/html": [
       "<div>\n",
       "<style scoped>\n",
       "    .dataframe tbody tr th:only-of-type {\n",
       "        vertical-align: middle;\n",
       "    }\n",
       "\n",
       "    .dataframe tbody tr th {\n",
       "        vertical-align: top;\n",
       "    }\n",
       "\n",
       "    .dataframe thead th {\n",
       "        text-align: right;\n",
       "    }\n",
       "</style>\n",
       "<table border=\"1\" class=\"dataframe\">\n",
       "  <thead>\n",
       "    <tr style=\"text-align: right;\">\n",
       "      <th></th>\n",
       "      <th>Qlv_disc</th>\n",
       "      <th>Qmc_disc</th>\n",
       "      <th>Qhv_disc</th>\n",
       "      <th>Qmv_disc</th>\n",
       "    </tr>\n",
       "  </thead>\n",
       "  <tbody>\n",
       "    <tr>\n",
       "      <th>count</th>\n",
       "      <td>126.000000</td>\n",
       "      <td>126.000000</td>\n",
       "      <td>126.000000</td>\n",
       "      <td>126.000000</td>\n",
       "    </tr>\n",
       "    <tr>\n",
       "      <th>mean</th>\n",
       "      <td>2.341270</td>\n",
       "      <td>1.682540</td>\n",
       "      <td>1.968254</td>\n",
       "      <td>1.500000</td>\n",
       "    </tr>\n",
       "    <tr>\n",
       "      <th>std</th>\n",
       "      <td>1.465129</td>\n",
       "      <td>1.163792</td>\n",
       "      <td>1.533292</td>\n",
       "      <td>1.115347</td>\n",
       "    </tr>\n",
       "    <tr>\n",
       "      <th>min</th>\n",
       "      <td>0.000000</td>\n",
       "      <td>0.000000</td>\n",
       "      <td>0.000000</td>\n",
       "      <td>0.000000</td>\n",
       "    </tr>\n",
       "    <tr>\n",
       "      <th>25%</th>\n",
       "      <td>1.000000</td>\n",
       "      <td>1.000000</td>\n",
       "      <td>0.250000</td>\n",
       "      <td>1.000000</td>\n",
       "    </tr>\n",
       "    <tr>\n",
       "      <th>50%</th>\n",
       "      <td>3.000000</td>\n",
       "      <td>2.000000</td>\n",
       "      <td>2.000000</td>\n",
       "      <td>1.500000</td>\n",
       "    </tr>\n",
       "    <tr>\n",
       "      <th>75%</th>\n",
       "      <td>4.000000</td>\n",
       "      <td>3.000000</td>\n",
       "      <td>3.000000</td>\n",
       "      <td>2.000000</td>\n",
       "    </tr>\n",
       "    <tr>\n",
       "      <th>max</th>\n",
       "      <td>4.000000</td>\n",
       "      <td>3.000000</td>\n",
       "      <td>4.000000</td>\n",
       "      <td>3.000000</td>\n",
       "    </tr>\n",
       "  </tbody>\n",
       "</table>\n",
       "</div>"
      ],
      "text/plain": [
       "         Qlv_disc    Qmc_disc    Qhv_disc    Qmv_disc\n",
       "count  126.000000  126.000000  126.000000  126.000000\n",
       "mean     2.341270    1.682540    1.968254    1.500000\n",
       "std      1.465129    1.163792    1.533292    1.115347\n",
       "min      0.000000    0.000000    0.000000    0.000000\n",
       "25%      1.000000    1.000000    0.250000    1.000000\n",
       "50%      3.000000    2.000000    2.000000    1.500000\n",
       "75%      4.000000    3.000000    3.000000    2.000000\n",
       "max      4.000000    3.000000    4.000000    3.000000"
      ]
     },
     "execution_count": 6,
     "metadata": {},
     "output_type": "execute_result"
    }
   ],
   "source": [
    "dataset.describe()"
   ]
  },
  {
   "cell_type": "code",
   "execution_count": 7,
   "metadata": {
    "pycharm": {
     "name": "#%%\n"
    }
   },
   "outputs": [],
   "source": [
    "config = {'algorithm': 'C4.5'}"
   ]
  },
  {
   "cell_type": "code",
   "execution_count": 8,
   "metadata": {
    "pycharm": {
     "name": "#%%\n"
    }
   },
   "outputs": [
    {
     "name": "stdout",
     "output_type": "stream",
     "text": [
      "C4.5  tree is going to be built...\n",
      "-------------------------\n",
      "finished in  0.7927038669586182  seconds\n",
      "-------------------------\n",
      "Evaluate  train set\n",
      "-------------------------\n",
      "Accuracy:  91.26984126984127 % on  126  instances\n",
      "Labels:  ['A' 'D' 'C' 'B']\n",
      "Confusion matrix:  [[30, 0, 0, 0], [0, 31, 0, 0], [1, 0, 30, 8], [1, 0, 1, 24]]\n",
      "Decision  A  => Accuray:  98.4127 %, Precision:  100.0 %, Recall:  93.75 %, F1:  96.7742 %\n",
      "Decision  D  => Accuray:  100.0 %, Precision:  100.0 %, Recall:  100.0 %, F1:  100.0 %\n",
      "Decision  C  => Accuray:  92.0635 %, Precision:  76.9231 %, Recall:  96.7742 %, F1:  85.7143 %\n",
      "Decision  B  => Accuray:  92.0635 %, Precision:  92.3077 %, Recall:  75.0 %, F1:  82.7586 %\n"
     ]
    }
   ],
   "source": [
    "model = chef.fit(dataset.copy(), config = config)"
   ]
  },
  {
   "cell_type": "code",
   "execution_count": 9,
   "metadata": {
    "pycharm": {
     "name": "#%%\n"
    }
   },
   "outputs": [
    {
     "name": "stdout",
     "output_type": "stream",
     "text": [
      "*A  -  C\n",
      "D  -  D\n",
      "D  -  D\n",
      "A  -  A\n",
      "A  -  A\n",
      "D  -  D\n",
      "D  -  D\n",
      "C  -  C\n",
      "A  -  A\n",
      "A  -  A\n",
      "C  -  C\n",
      "*B  -  C\n",
      "B  -  B\n",
      "D  -  D\n",
      "C  -  C\n",
      "B  -  B\n",
      "C  -  C\n",
      "A  -  A\n",
      "A  -  A\n",
      "B  -  B\n",
      "C  -  C\n",
      "C  -  C\n",
      "D  -  D\n",
      "C  -  C\n",
      "C  -  C\n",
      "D  -  D\n",
      "D  -  D\n",
      "*B  -  C\n",
      "A  -  A\n",
      "D  -  D\n",
      "B  -  B\n",
      "D  -  D\n",
      "B  -  B\n",
      "D  -  D\n",
      "B  -  B\n",
      "B  -  B\n",
      "B  -  B\n",
      "A  -  A\n",
      "C  -  C\n",
      "B  -  B\n",
      "B  -  B\n",
      "A  -  A\n",
      "C  -  C\n",
      "A  -  A\n",
      "D  -  D\n",
      "B  -  B\n",
      "B  -  B\n",
      "*B  -  C\n",
      "D  -  D\n",
      "B  -  B\n",
      "A  -  A\n",
      "D  -  D\n",
      "D  -  D\n",
      "B  -  B\n",
      "A  -  A\n",
      "C  -  C\n",
      "A  -  A\n",
      "B  -  B\n",
      "C  -  C\n",
      "C  -  C\n",
      "D  -  D\n",
      "C  -  C\n",
      "C  -  C\n",
      "A  -  A\n",
      "B  -  B\n",
      "D  -  D\n",
      "C  -  C\n",
      "A  -  A\n",
      "C  -  C\n",
      "C  -  C\n",
      "*B  -  C\n",
      "B  -  B\n",
      "C  -  C\n",
      "*B  -  C\n",
      "D  -  D\n",
      "*A  -  B\n",
      "A  -  A\n",
      "A  -  A\n",
      "D  -  D\n",
      "*B  -  C\n",
      "*B  -  C\n",
      "B  -  B\n",
      "C  -  C\n",
      "D  -  D\n",
      "D  -  D\n",
      "C  -  C\n",
      "D  -  D\n",
      "A  -  A\n",
      "A  -  A\n",
      "B  -  B\n",
      "D  -  D\n",
      "A  -  A\n",
      "A  -  A\n",
      "B  -  B\n",
      "A  -  A\n",
      "C  -  C\n",
      "A  -  A\n",
      "C  -  C\n",
      "D  -  D\n",
      "D  -  D\n",
      "A  -  A\n",
      "A  -  A\n",
      "A  -  A\n",
      "*B  -  C\n",
      "C  -  C\n",
      "D  -  D\n",
      "D  -  D\n",
      "B  -  B\n",
      "A  -  A\n",
      "C  -  C\n",
      "C  -  C\n",
      "C  -  C\n",
      "A  -  A\n",
      "B  -  B\n",
      "A  -  A\n",
      "C  -  C\n",
      "B  -  B\n",
      "B  -  B\n",
      "D  -  D\n",
      "D  -  D\n",
      "D  -  D\n",
      "D  -  D\n",
      "A  -  A\n",
      "C  -  C\n",
      "*C  -  B\n",
      "C  -  C\n"
     ]
    }
   ],
   "source": [
    "for index, instance in dataset.iterrows():\n",
    "    Prediction = chef.predict(model, instance)\n",
    "    Actual = instance['Decision']\n",
    "\n",
    "    if Actual == Prediction:\n",
    "        classified = True\n",
    "    else:\n",
    "        classified = False\n",
    "        print(\"*\", end='')\n",
    "\n",
    "    print(Actual,\" - \",Prediction)"
   ]
  }
 ],
 "metadata": {
  "kernelspec": {
   "display_name": "Python 3",
   "language": "python",
   "name": "python3"
  },
  "language_info": {
   "codemirror_mode": {
    "name": "ipython",
    "version": 3
   },
   "file_extension": ".py",
   "mimetype": "text/x-python",
   "name": "python",
   "nbconvert_exporter": "python",
   "pygments_lexer": "ipython3",
   "version": "3.7.6"
  }
 },
 "nbformat": 4,
 "nbformat_minor": 1
}
