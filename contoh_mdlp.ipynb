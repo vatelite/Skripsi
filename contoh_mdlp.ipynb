{
 "cells": [
  {
   "cell_type": "code",
   "execution_count": 1,
   "metadata": {},
   "outputs": [],
   "source": [
    "import pandas as pd\n",
    "from mdlp.discretization import MDLP\n",
    "from matplotlib import pyplot"
   ]
  },
  {
   "cell_type": "code",
   "execution_count": 2,
   "metadata": {},
   "outputs": [
    {
     "name": "stdout",
     "output_type": "stream",
     "text": [
      "     Unnamed: 0         timestamp       Qmc       Qhv       Qlv       Qmv  \\\n",
      "0             1  09/10/2015 12:00  0.681205  0.409015  0.781223  0.757802   \n",
      "1             2  09/10/2015 16:00  0.833072  0.534224  0.919577  0.902939   \n",
      "2             3  07/10/2015 15:00  0.899592  0.577629  0.894871  0.899466   \n",
      "3             4  05/10/2015 02:00  0.030750  0.028381  0.048219  0.043682   \n",
      "4             5  10/10/2015 05:00  0.060872  0.011686  0.014824  0.021236   \n",
      "..          ...               ...       ...       ...       ...       ...   \n",
      "121         122  07/10/2015 10:00  0.796360  0.539232  0.746635  0.763749   \n",
      "122         123  04/10/2015 01:00  0.080013  0.053422  0.093202  0.089245   \n",
      "123         124  08/10/2015 18:00  0.751804  0.512521  0.709831  0.725120   \n",
      "124         125  09/10/2015 21:00  0.399749  0.282137  0.746635  0.670886   \n",
      "125         126  05/10/2015 10:00  0.667085  0.437396  0.658034  0.663215   \n",
      "\n",
      "     Decision  \n",
      "0           0  \n",
      "1           3  \n",
      "2           3  \n",
      "3           0  \n",
      "4           0  \n",
      "..        ...  \n",
      "121         3  \n",
      "122         0  \n",
      "123         2  \n",
      "124         2  \n",
      "125         2  \n",
      "\n",
      "[126 rows x 7 columns]\n",
      "          Qmc       Qhv       Qlv       Qmv\n",
      "0    0.681205  0.409015  0.781223  0.757802\n",
      "1    0.833072  0.534224  0.919577  0.902939\n",
      "2    0.899592  0.577629  0.894871  0.899466\n",
      "3    0.030750  0.028381  0.048219  0.043682\n",
      "4    0.060872  0.011686  0.014824  0.021236\n",
      "..        ...       ...       ...       ...\n",
      "121  0.796360  0.539232  0.746635  0.763749\n",
      "122  0.080013  0.053422  0.093202  0.089245\n",
      "123  0.751804  0.512521  0.709831  0.725120\n",
      "124  0.399749  0.282137  0.746635  0.670886\n",
      "125  0.667085  0.437396  0.658034  0.663215\n",
      "\n",
      "[126 rows x 4 columns]\n",
      "     Decision\n",
      "0           0\n",
      "1           3\n",
      "2           3\n",
      "3           0\n",
      "4           0\n",
      "..        ...\n",
      "121         3\n",
      "122         0\n",
      "123         2\n",
      "124         2\n",
      "125         2\n",
      "\n",
      "[126 rows x 1 columns]\n"
     ]
    }
   ],
   "source": [
    "df=pd.read_csv('C:/Users/muham/skripsi/new/train.csv')\n",
    "print(df)\n",
    "dataset=df.drop(['Unnamed: 0','timestamp','Decision'],axis=1)\n",
    "print(dataset)\n",
    "y=df.drop(['Unnamed: 0','timestamp','Qmc','Qhv','Qlv','Qmv'],axis=1)\n",
    "print(y)\n",
    "# retrieve just the numeric input values\n",
    "data = dataset.values[:, :-1]\n",
    "# perform a mdlp discretization transform of the dataset\n",
    "transformer = MDLP()\n",
    "data = transformer.fit_transform(data, y)"
   ]
  },
  {
   "cell_type": "code",
   "execution_count": 3,
   "metadata": {},
   "outputs": [
    {
     "name": "stdout",
     "output_type": "stream",
     "text": [
      "[[3 4 3]\n",
      " [4 5 4]\n",
      " [4 5 4]\n",
      " [0 0 0]\n",
      " [0 0 0]\n",
      " [4 5 3]\n",
      " [4 5 4]\n",
      " [4 3 3]\n",
      " [0 0 0]\n",
      " [1 0 0]\n",
      " [3 3 3]\n",
      " [3 3 1]\n",
      " [2 3 1]\n",
      " [4 4 3]\n",
      " [3 3 3]\n",
      " [2 2 1]\n",
      " [3 4 3]\n",
      " [0 0 0]\n",
      " [0 0 0]\n",
      " [2 2 1]\n",
      " [4 4 3]\n",
      " [3 3 3]\n",
      " [4 4 4]\n",
      " [3 2 3]\n",
      " [3 3 3]\n",
      " [4 5 4]\n",
      " [3 4 4]\n",
      " [3 3 2]\n",
      " [0 0 0]\n",
      " [3 4 4]\n",
      " [2 2 1]\n",
      " [4 5 4]\n",
      " [2 2 1]\n",
      " [4 5 3]\n",
      " [2 2 2]\n",
      " [2 3 1]\n",
      " [1 2 1]\n",
      " [0 0 0]\n",
      " [3 3 3]\n",
      " [2 2 1]\n",
      " [1 1 1]\n",
      " [1 0 0]\n",
      " [4 3 3]\n",
      " [1 0 0]\n",
      " [4 5 4]\n",
      " [2 3 2]\n",
      " [2 2 2]\n",
      " [3 3 1]\n",
      " [3 5 4]\n",
      " [2 3 1]\n",
      " [0 0 0]\n",
      " [4 4 4]\n",
      " [4 4 4]\n",
      " [1 1 0]\n",
      " [0 0 0]\n",
      " [3 3 2]\n",
      " [1 0 0]\n",
      " [2 2 1]\n",
      " [3 3 2]\n",
      " [4 4 3]\n",
      " [3 4 4]\n",
      " [3 3 3]\n",
      " [3 3 3]\n",
      " [0 0 0]\n",
      " [2 2 1]\n",
      " [4 5 4]\n",
      " [3 3 3]\n",
      " [0 0 0]\n",
      " [3 3 2]\n",
      " [3 3 3]\n",
      " [3 3 1]\n",
      " [2 4 1]\n",
      " [3 4 3]\n",
      " [3 2 2]\n",
      " [4 3 4]\n",
      " [1 1 0]\n",
      " [0 1 0]\n",
      " [1 0 0]\n",
      " [4 4 4]\n",
      " [3 3 1]\n",
      " [3 2 1]\n",
      " [2 2 1]\n",
      " [3 4 3]\n",
      " [4 4 4]\n",
      " [4 5 4]\n",
      " [4 4 2]\n",
      " [4 4 4]\n",
      " [0 0 0]\n",
      " [0 0 0]\n",
      " [2 2 1]\n",
      " [4 5 4]\n",
      " [0 0 0]\n",
      " [0 0 0]\n",
      " [2 2 1]\n",
      " [0 0 0]\n",
      " [3 3 4]\n",
      " [0 0 0]\n",
      " [4 4 2]\n",
      " [4 3 4]\n",
      " [4 4 4]\n",
      " [0 0 0]\n",
      " [0 0 0]\n",
      " [0 0 0]\n",
      " [3 3 2]\n",
      " [3 4 3]\n",
      " [4 5 4]\n",
      " [3 4 4]\n",
      " [1 1 1]\n",
      " [0 0 0]\n",
      " [4 4 3]\n",
      " [3 3 2]\n",
      " [3 3 3]\n",
      " [0 0 0]\n",
      " [2 2 1]\n",
      " [0 0 0]\n",
      " [3 4 3]\n",
      " [1 2 1]\n",
      " [2 2 1]\n",
      " [4 3 4]\n",
      " [4 5 4]\n",
      " [4 5 4]\n",
      " [4 5 3]\n",
      " [0 0 0]\n",
      " [4 4 3]\n",
      " [2 3 3]\n",
      " [3 4 3]]\n"
     ]
    }
   ],
   "source": [
    "print(data)"
   ]
  },
  {
   "cell_type": "code",
   "execution_count": 4,
   "metadata": {},
   "outputs": [],
   "source": [
    "dataset = pd.DataFrame(data)"
   ]
  },
  {
   "cell_type": "code",
   "execution_count": 5,
   "metadata": {},
   "outputs": [
    {
     "data": {
      "image/png": "[encoded data removed]",
      "text/plain": [
       "<Figure size 432x288 with 4 Axes>"
      ]
     },
     "metadata": {
      "needs_background": "light"
     },
     "output_type": "display_data"
    }
   ],
   "source": [
    "dataset.hist()\n",
    "pyplot.show()"
   ]
  },
  {
   "cell_type": "code",
   "execution_count": 6,
   "metadata": {},
   "outputs": [],
   "source": [
    "dataset.to_csv('data.csv')"
   ]
  },
  {
   "cell_type": "code",
   "execution_count": null,
   "metadata": {},
   "outputs": [],
   "source": []
  }
 ],
 "metadata": {
  "kernelspec": {
   "display_name": "Python 3",
   "language": "python",
   "name": "python3"
  },
  "language_info": {
   "codemirror_mode": {
    "name": "ipython",
    "version": 3
   },
   "file_extension": ".py",
   "mimetype": "text/x-python",
   "name": "python",
   "nbconvert_exporter": "python",
   "pygments_lexer": "ipython3",
   "version": "3.7.6"
  }
 },
 "nbformat": 4,
 "nbformat_minor": 5
}
